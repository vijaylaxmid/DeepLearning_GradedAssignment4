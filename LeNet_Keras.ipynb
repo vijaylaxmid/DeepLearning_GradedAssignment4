{
  "nbformat": 4,
  "nbformat_minor": 0,
  "metadata": {
    "colab": {
      "name": "LeNet_Keras.ipynb",
      "provenance": []
    },
    "kernelspec": {
      "name": "python3",
      "display_name": "Python 3"
    },
    "accelerator": "GPU"
  },
  "cells": [
    {
      "cell_type": "code",
      "metadata": {
        "id": "exccy7sCW7Sw",
        "colab_type": "code",
        "colab": {
          "base_uri": "https://localhost:8080/",
          "height": 34
        },
        "outputId": "bb0158a1-ef63-4b93-d321-4baa0f9600c0"
      },
      "source": [
        "import os \n",
        "import numpy as np\n",
        "import keras\n",
        "from keras.datasets import mnist\n",
        "from keras.utils import np_utils\n",
        "from keras.models import Sequential, load_model\n",
        "from keras.layers import Dense, Activation, Conv2D, MaxPooling2D, Flatten\n",
        "from keras.optimizers import Adam\n",
        "from keras.callbacks import ReduceLROnPlateau\n",
        "from keras.preprocessing.image import ImageDataGenerator"
      ],
      "execution_count": 1,
      "outputs": [
        {
          "output_type": "stream",
          "text": [
            "Using TensorFlow backend.\n"
          ],
          "name": "stderr"
        }
      ]
    },
    {
      "cell_type": "code",
      "metadata": {
        "id": "dIl8yapCW-tX",
        "colab_type": "code",
        "colab": {
          "base_uri": "https://localhost:8080/",
          "height": 51
        },
        "outputId": "6f6c03e1-abb8-475d-b3a2-b8dc1a2d82dc"
      },
      "source": [
        "(X_train, y_train), (X_test, y_test) = mnist.load_data()\n",
        "X_train = X_train.reshape(-1, 28, 28, 1)  \n",
        "X_test = X_test.reshape(-1, 28, 28, 1)      \n",
        "X_train = X_train / 255\n",
        "X_test = X_test / 255\n",
        "y_train = np_utils.to_categorical(y_train, num_classes=10)\n",
        "y_test = np_utils.to_categorical(y_test, num_classes=10)"
      ],
      "execution_count": 2,
      "outputs": [
        {
          "output_type": "stream",
          "text": [
            "Downloading data from https://s3.amazonaws.com/img-datasets/mnist.npz\n",
            "11493376/11490434 [==============================] - 1s 0us/step\n"
          ],
          "name": "stdout"
        }
      ]
    },
    {
      "cell_type": "code",
      "metadata": {
        "id": "XFAQMiPeXCgI",
        "colab_type": "code",
        "colab": {
          "base_uri": "https://localhost:8080/",
          "height": 425
        },
        "outputId": "aeb7db20-dd36-4b41-e9bb-8e754144bb08"
      },
      "source": [
        "model = Sequential()\n",
        "\n",
        "model.add(Conv2D(filters=32, kernel_size=(5,5), padding='same', activation='relu', input_shape=(28, 28, 1)))\n",
        "model.add(MaxPooling2D(pool_size=(2,2), strides=2, padding='same'))\n",
        "model.add(Conv2D(filters=48, kernel_size=(5,5), padding='valid', activation='relu'))\n",
        "model.add(MaxPooling2D(pool_size=(2,2), strides=2, padding='same'))\n",
        "model.add(Flatten())\n",
        "model.add(Dense(256, activation='relu'))\n",
        "model.add(Dense(84, activation='relu'))\n",
        "model.add(Dense(10, activation='softmax'))\n",
        "model.summary()"
      ],
      "execution_count": 3,
      "outputs": [
        {
          "output_type": "stream",
          "text": [
            "Model: \"sequential_1\"\n",
            "_________________________________________________________________\n",
            "Layer (type)                 Output Shape              Param #   \n",
            "=================================================================\n",
            "conv2d_1 (Conv2D)            (None, 28, 28, 32)        832       \n",
            "_________________________________________________________________\n",
            "max_pooling2d_1 (MaxPooling2 (None, 14, 14, 32)        0         \n",
            "_________________________________________________________________\n",
            "conv2d_2 (Conv2D)            (None, 10, 10, 48)        38448     \n",
            "_________________________________________________________________\n",
            "max_pooling2d_2 (MaxPooling2 (None, 5, 5, 48)          0         \n",
            "_________________________________________________________________\n",
            "flatten_1 (Flatten)          (None, 1200)              0         \n",
            "_________________________________________________________________\n",
            "dense_1 (Dense)              (None, 256)               307456    \n",
            "_________________________________________________________________\n",
            "dense_2 (Dense)              (None, 84)                21588     \n",
            "_________________________________________________________________\n",
            "dense_3 (Dense)              (None, 10)                850       \n",
            "=================================================================\n",
            "Total params: 369,174\n",
            "Trainable params: 369,174\n",
            "Non-trainable params: 0\n",
            "_________________________________________________________________\n"
          ],
          "name": "stdout"
        }
      ]
    },
    {
      "cell_type": "code",
      "metadata": {
        "id": "xItEvwH5XHLh",
        "colab_type": "code",
        "colab": {}
      },
      "source": [
        "model.compile(loss='categorical_crossentropy', metrics=['accuracy'], optimizer=Adam(lr=5e-4))\n",
        "reduce_lr = ReduceLROnPlateau(monitor='val_acc', \n",
        "                                patience=3, \n",
        "                                verbose=1, \n",
        "                                factor=0.2, \n",
        "                                min_lr=1e-6)"
      ],
      "execution_count": 0,
      "outputs": []
    },
    {
      "cell_type": "code",
      "metadata": {
        "id": "280KcC08XLO4",
        "colab_type": "code",
        "colab": {}
      },
      "source": [
        "log = keras.callbacks.TensorBoard(log_dir='./log',\n",
        "                                         histogram_freq=1,\n",
        "                                         embeddings_freq=0,\n",
        "                                         embeddings_layer_names=None)"
      ],
      "execution_count": 0,
      "outputs": []
    },
    {
      "cell_type": "code",
      "metadata": {
        "id": "XuLhAHk1XN-h",
        "colab_type": "code",
        "colab": {}
      },
      "source": [
        "datagen = ImageDataGenerator(\n",
        "            rotation_range=10, \n",
        "            width_shift_range=0.1, \n",
        "            height_shift_range=0.1, \n",
        "            shear_range=0.1,\n",
        "            zoom_range=0.2)"
      ],
      "execution_count": 0,
      "outputs": []
    },
    {
      "cell_type": "code",
      "metadata": {
        "id": "mJFOOtSmXRM-",
        "colab_type": "code",
        "colab": {}
      },
      "source": [
        "datagen.fit(X_train) "
      ],
      "execution_count": 0,
      "outputs": []
    },
    {
      "cell_type": "code",
      "metadata": {
        "id": "oOIFjBPYXTx-",
        "colab_type": "code",
        "colab": {
          "base_uri": "https://localhost:8080/",
          "height": 1000
        },
        "outputId": "bac44c98-ee25-4cff-8c84-74d15467838f"
      },
      "source": [
        "model.fit_generator(datagen.flow(X_train, y_train, batch_size=100), steps_per_epoch=len(X_train)/100, \n",
        "                    epochs=30, validation_data=(X_test, y_test), callbacks=[reduce_lr,log])"
      ],
      "execution_count": 8,
      "outputs": [
        {
          "output_type": "stream",
          "text": [
            "Epoch 1/30\n",
            "600/600 [==============================] - 22s 36ms/step - loss: 0.3994 - accuracy: 0.8751 - val_loss: 0.0636 - val_accuracy: 0.9796\n",
            "Epoch 2/30\n",
            " 12/600 [..............................] - ETA: 6s - loss: 0.1733 - accuracy: 0.9533"
          ],
          "name": "stdout"
        },
        {
          "output_type": "stream",
          "text": [
            "/usr/local/lib/python3.6/dist-packages/keras/callbacks/callbacks.py:1042: RuntimeWarning: Reduce LR on plateau conditioned on metric `val_acc` which is not available. Available metrics are: val_loss,val_accuracy,loss,accuracy,lr\n",
            "  (self.monitor, ','.join(list(logs.keys()))), RuntimeWarning\n"
          ],
          "name": "stderr"
        },
        {
          "output_type": "stream",
          "text": [
            "600/600 [==============================] - 16s 27ms/step - loss: 0.1282 - accuracy: 0.9611 - val_loss: 0.0344 - val_accuracy: 0.9882\n",
            "Epoch 3/30\n",
            "600/600 [==============================] - 16s 26ms/step - loss: 0.0909 - accuracy: 0.9726 - val_loss: 0.0399 - val_accuracy: 0.9866\n",
            "Epoch 4/30\n",
            "600/600 [==============================] - 16s 26ms/step - loss: 0.0732 - accuracy: 0.9775 - val_loss: 0.0298 - val_accuracy: 0.9890\n",
            "Epoch 5/30\n",
            "600/600 [==============================] - 15s 25ms/step - loss: 0.0607 - accuracy: 0.9804 - val_loss: 0.0256 - val_accuracy: 0.9914\n",
            "Epoch 6/30\n",
            "600/600 [==============================] - 15s 25ms/step - loss: 0.0559 - accuracy: 0.9830 - val_loss: 0.0229 - val_accuracy: 0.9927\n",
            "Epoch 7/30\n",
            "600/600 [==============================] - 15s 25ms/step - loss: 0.0496 - accuracy: 0.9845 - val_loss: 0.0229 - val_accuracy: 0.9917\n",
            "Epoch 8/30\n",
            "600/600 [==============================] - 15s 25ms/step - loss: 0.0467 - accuracy: 0.9854 - val_loss: 0.0253 - val_accuracy: 0.9918\n",
            "Epoch 9/30\n",
            "600/600 [==============================] - 15s 25ms/step - loss: 0.0433 - accuracy: 0.9862 - val_loss: 0.0193 - val_accuracy: 0.9938\n",
            "Epoch 10/30\n",
            "600/600 [==============================] - 15s 25ms/step - loss: 0.0383 - accuracy: 0.9879 - val_loss: 0.0233 - val_accuracy: 0.9923\n",
            "Epoch 11/30\n",
            "600/600 [==============================] - 15s 25ms/step - loss: 0.0371 - accuracy: 0.9884 - val_loss: 0.0178 - val_accuracy: 0.9940\n",
            "Epoch 12/30\n",
            "600/600 [==============================] - 15s 25ms/step - loss: 0.0341 - accuracy: 0.9893 - val_loss: 0.0158 - val_accuracy: 0.9941\n",
            "Epoch 13/30\n",
            "600/600 [==============================] - 15s 25ms/step - loss: 0.0331 - accuracy: 0.9897 - val_loss: 0.0192 - val_accuracy: 0.9936\n",
            "Epoch 14/30\n",
            "600/600 [==============================] - 15s 25ms/step - loss: 0.0330 - accuracy: 0.9897 - val_loss: 0.0190 - val_accuracy: 0.9940\n",
            "Epoch 15/30\n",
            "600/600 [==============================] - 15s 25ms/step - loss: 0.0305 - accuracy: 0.9906 - val_loss: 0.0247 - val_accuracy: 0.9920\n",
            "Epoch 16/30\n",
            "600/600 [==============================] - 15s 25ms/step - loss: 0.0287 - accuracy: 0.9908 - val_loss: 0.0208 - val_accuracy: 0.9940\n",
            "Epoch 17/30\n",
            "600/600 [==============================] - 15s 25ms/step - loss: 0.0279 - accuracy: 0.9910 - val_loss: 0.0145 - val_accuracy: 0.9944\n",
            "Epoch 18/30\n",
            "600/600 [==============================] - 15s 25ms/step - loss: 0.0270 - accuracy: 0.9915 - val_loss: 0.0181 - val_accuracy: 0.9937\n",
            "Epoch 19/30\n",
            "600/600 [==============================] - 15s 25ms/step - loss: 0.0262 - accuracy: 0.9913 - val_loss: 0.0200 - val_accuracy: 0.9936\n",
            "Epoch 20/30\n",
            "600/600 [==============================] - 15s 25ms/step - loss: 0.0255 - accuracy: 0.9919 - val_loss: 0.0163 - val_accuracy: 0.9947\n",
            "Epoch 21/30\n",
            "600/600 [==============================] - 15s 25ms/step - loss: 0.0249 - accuracy: 0.9920 - val_loss: 0.0309 - val_accuracy: 0.9907\n",
            "Epoch 22/30\n",
            "600/600 [==============================] - 15s 25ms/step - loss: 0.0232 - accuracy: 0.9924 - val_loss: 0.0190 - val_accuracy: 0.9939\n",
            "Epoch 23/30\n",
            "600/600 [==============================] - 15s 26ms/step - loss: 0.0217 - accuracy: 0.9930 - val_loss: 0.0192 - val_accuracy: 0.9945\n",
            "Epoch 24/30\n",
            "600/600 [==============================] - 15s 25ms/step - loss: 0.0230 - accuracy: 0.9927 - val_loss: 0.0213 - val_accuracy: 0.9939\n",
            "Epoch 25/30\n",
            "600/600 [==============================] - 15s 25ms/step - loss: 0.0211 - accuracy: 0.9931 - val_loss: 0.0198 - val_accuracy: 0.9937\n",
            "Epoch 26/30\n",
            "600/600 [==============================] - 15s 25ms/step - loss: 0.0231 - accuracy: 0.9927 - val_loss: 0.0160 - val_accuracy: 0.9947\n",
            "Epoch 27/30\n",
            "600/600 [==============================] - 15s 25ms/step - loss: 0.0205 - accuracy: 0.9934 - val_loss: 0.0191 - val_accuracy: 0.9938\n",
            "Epoch 28/30\n",
            "600/600 [==============================] - 15s 25ms/step - loss: 0.0197 - accuracy: 0.9937 - val_loss: 0.0180 - val_accuracy: 0.9938\n",
            "Epoch 29/30\n",
            "600/600 [==============================] - 15s 25ms/step - loss: 0.0178 - accuracy: 0.9939 - val_loss: 0.0224 - val_accuracy: 0.9938\n",
            "Epoch 30/30\n",
            "600/600 [==============================] - 15s 25ms/step - loss: 0.0191 - accuracy: 0.9941 - val_loss: 0.0171 - val_accuracy: 0.9947\n"
          ],
          "name": "stdout"
        },
        {
          "output_type": "execute_result",
          "data": {
            "text/plain": [
              "<keras.callbacks.callbacks.History at 0x7efe701a5fd0>"
            ]
          },
          "metadata": {
            "tags": []
          },
          "execution_count": 8
        }
      ]
    }
  ]
}